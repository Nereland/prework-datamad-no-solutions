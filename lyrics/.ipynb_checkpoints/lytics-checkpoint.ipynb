{
 "cells": [
  {
   "cell_type": "markdown",
   "metadata": {},
   "source": [
    "# Lyrics\n",
    "## Intro\n",
    "This exercise is simple. You are going to create a code that writes the lyrics of a famous song. **The shorter your code is, the better**. Although it may seem a bit silly, it is important that you learn to automate repetitive tasks or that there are few changes between them.\n",
    "\n",
    "<img src=\"./images/babyshark.jpeg\" width=\"400\">\n",
    "\n",
    "## Song\n",
    "\n",
    "```\n",
    "Baby shark, doo doo doo doo doo doo\n",
    "Baby shark, doo doo doo doo doo doo\n",
    "Baby shark, doo doo doo doo doo doo\n",
    "Baby shark!\n",
    "Mommy shark, doo doo doo doo doo doo\n",
    "Mommy shark, doo doo doo doo doo doo\n",
    "Mommy shark, doo doo doo doo doo doo\n",
    "Mommy shark!\n",
    "Daddy shark, doo doo doo doo doo doo\n",
    "Daddy shark, doo doo doo doo doo doo\n",
    "Daddy shark, doo doo doo doo doo doo\n",
    "Daddy shark!\n",
    "Grandma shark, doo doo doo doo doo doo\n",
    "Grandma shark, doo doo doo doo doo doo\n",
    "Grandma shark, doo doo doo doo doo doo\n",
    "Grandma shark!\n",
    "Grandpa shark, doo doo doo doo doo doo\n",
    "Grandpa shark, doo doo doo doo doo doo\n",
    "Grandpa shark, doo doo doo doo doo doo\n",
    "Grandpa shark!\n",
    "Let's go hunt, doo doo doo doo doo doo\n",
    "Let's go hunt, doo doo doo doo doo doo\n",
    "Let's go hunt, doo doo doo doo doo doo\n",
    "Let's go hunt!\n",
    "Run away,… \n",
    "```\n",
    "\n",
    "\n",
    "## Goals\n",
    "\n",
    "0. Use of string methods: **format()**, **str()**\n",
    "1. Use of **for loop**\n",
    "2. Use of the function **range()**\n",
    "3. print()\n",
    "4. Use of functions\n",
    "5. Open files\n",
    "6. Refactoring\n",
    "\n",
    "## Hints\n",
    "\n",
    "* '\\n' is the character for new line. It must end every string in the third step. \n",
    "\n",
    "\n",
    "## Solution"
   ]
  },
  {
   "cell_type": "code",
   "execution_count": 2,
   "metadata": {},
   "outputs": [],
   "source": [
    "babyshark = '''Baby shark, doo doo doo doo doo doo\n",
    "Baby shark, doo doo doo doo doo doo\n",
    "Baby shark, doo doo doo doo doo doo\n",
    "Baby shark!\n",
    "Mommy shark, doo doo doo doo doo doo\n",
    "Mommy shark, doo doo doo doo doo doo\n",
    "Mommy shark, doo doo doo doo doo doo\n",
    "Mommy shark!\n",
    "Daddy shark, doo doo doo doo doo doo\n",
    "Daddy shark, doo doo doo doo doo doo\n",
    "Daddy shark, doo doo doo doo doo doo\n",
    "Daddy shark!\n",
    "Grandma shark, doo doo doo doo doo doo\n",
    "Grandma shark, doo doo doo doo doo doo\n",
    "Grandma shark, doo doo doo doo doo doo\n",
    "Grandma shark!\n",
    "Grandpa shark, doo doo doo doo doo doo\n",
    "Grandpa shark, doo doo doo doo doo doo\n",
    "Grandpa shark, doo doo doo doo doo doo\n",
    "Grandpa shark!\n",
    "Let's go hunt, doo doo doo doo doo doo\n",
    "Let's go hunt, doo doo doo doo doo doo\n",
    "Let's go hunt, doo doo doo doo doo doo\n",
    "Let's go hunt!\n",
    "Run away,…'''\n"
   ]
  },
  {
   "cell_type": "markdown",
   "metadata": {},
   "source": [
    "### Step 1: First Paragraph\n",
    "Create a code to print the first paragraph and asign it to a variable. "
   ]
  },
  {
   "cell_type": "code",
   "execution_count": 3,
   "metadata": {},
   "outputs": [
    {
     "name": "stdout",
     "output_type": "stream",
     "text": [
      "Baby shark, doo doo doo doo doo doo \n",
      "Baby shark, doo doo doo doo doo doo \n",
      "Baby shark, doo doo doo doo doo doo \n",
      "Baby shark!\n"
     ]
    }
   ],
   "source": [
    "# your code here\n",
    "first = 3*\"{} \\n\".format(\"Baby shark, doo doo doo doo doo doo\") + \"Baby shark!\"\n",
    "print(first)\n"
   ]
  },
  {
   "cell_type": "markdown",
   "metadata": {},
   "source": [
    "**Expected output**:\n",
    "\n",
    "```\n",
    "Baby shark, doo doo doo doo doo doo\n",
    "Baby shark, doo doo doo doo doo doo\n",
    "Baby shark, doo doo doo doo doo doo\n",
    "Baby shark!\n",
    "```\n",
    "\n"
   ]
  },
  {
   "cell_type": "markdown",
   "metadata": {},
   "source": [
    "### Step 2: Full song\n",
    "\n",
    "Create a code that prints the complete lyrics. "
   ]
  },
  {
   "cell_type": "code",
   "execution_count": 4,
   "metadata": {},
   "outputs": [
    {
     "name": "stdout",
     "output_type": "stream",
     "text": [
      "Baby shark, doo doo doo doo doo doo\n",
      "Baby shark, doo doo doo doo doo doo\n",
      "Baby shark, doo doo doo doo doo doo\n",
      "Baby shark!\n",
      "Mommy shark, doo doo doo doo doo doo\n",
      "Mommy shark, doo doo doo doo doo doo\n",
      "Mommy shark, doo doo doo doo doo doo\n",
      "Mommy shark!\n",
      "Daddy shark, doo doo doo doo doo doo\n",
      "Daddy shark, doo doo doo doo doo doo\n",
      "Daddy shark, doo doo doo doo doo doo\n",
      "Daddy shark!\n",
      "Grandma shark, doo doo doo doo doo doo\n",
      "Grandma shark, doo doo doo doo doo doo\n",
      "Grandma shark, doo doo doo doo doo doo\n",
      "Grandma shark!\n",
      "Grandpa shark, doo doo doo doo doo doo\n",
      "Grandpa shark, doo doo doo doo doo doo\n",
      "Grandpa shark, doo doo doo doo doo doo\n",
      "Grandpa shark!\n",
      "Let's go hunt, doo doo doo doo doo doo\n",
      "Let's go hunt, doo doo doo doo doo doo\n",
      "Let's go hunt, doo doo doo doo doo doo\n",
      "Let's go hunt!\n",
      "Run away,…\n"
     ]
    }
   ],
   "source": [
    "p = [\"Baby shark\", \"Mommy shark\", \"Daddy shark\", \"Grandma shark\", \"Grandpa shark\", \"Let's go hunt\", \"Run away,…\"]\n",
    "s = \"doo doo doo doo doo doo\"\n",
    "\n",
    "def baby_shark_lyrics():\n",
    "    song = []\n",
    "    for i in p[:5]:\n",
    "        tst = 3*f\"{i}, {s}\\n\" + f\"{i}!\\n\"\n",
    "        song.append(tst)\n",
    "    for i in p[5:6]:\n",
    "        second = 3*f\"{i}, {s}\\n\" + f\"{i}!\\n\"\n",
    "        song.append(second)    \n",
    "    for i in p[-1:]:\n",
    "        song.append(i)\n",
    "    return \"\".join(song)\n",
    "print(baby_shark_lyrics())"
   ]
  },
  {
   "cell_type": "markdown",
   "metadata": {},
   "source": [
    "**Expected output**:\n",
    "\n",
    "```\n",
    "Baby shark, doo doo doo doo doo doo\n",
    "Baby shark, doo doo doo doo doo doo\n",
    "Baby shark, doo doo doo doo doo doo\n",
    "Baby shark!\n",
    "Mommy shark, doo doo doo doo doo doo\n",
    "Mommy shark, doo doo doo doo doo doo\n",
    "Mommy shark, doo doo doo doo doo doo\n",
    "Mommy shark!\n",
    "Daddy shark, doo doo doo doo doo doo\n",
    "Daddy shark, doo doo doo doo doo doo\n",
    "Daddy shark, doo doo doo doo doo doo\n",
    "Daddy shark!\n",
    "Grandma shark, doo doo doo doo doo doo\n",
    "Grandma shark, doo doo doo doo doo doo\n",
    "Grandma shark, doo doo doo doo doo doo\n",
    "Grandma shark!\n",
    "Grandpa shark, doo doo doo doo doo doo\n",
    "Grandpa shark, doo doo doo doo doo doo\n",
    "Grandpa shark, doo doo doo doo doo doo\n",
    "Grandpa shark!\n",
    "Let's go hunt, doo doo doo doo doo doo\n",
    "Let's go hunt, doo doo doo doo doo doo\n",
    "Let's go hunt, doo doo doo doo doo doo\n",
    "Let's go hunt!\n",
    "Run away,… \n",
    "```\n",
    "\n",
    "### Step 3: Check output\n",
    "Now i want you must create a string variable called **result** to store all the characters and check if it is equal to the lyrics. Remenber de hint section. "
   ]
  },
  {
   "cell_type": "code",
   "execution_count": 5,
   "metadata": {},
   "outputs": [],
   "source": [
    "result = baby_shark_lyrics()\n"
   ]
  },
  {
   "cell_type": "code",
   "execution_count": 6,
   "metadata": {},
   "outputs": [
    {
     "name": "stdout",
     "output_type": "stream",
     "text": [
      "True\n"
     ]
    }
   ],
   "source": [
    "def equals():\n",
    "    if len(result) == len(babyshark):\n",
    "        return True\n",
    "    else:\n",
    "        False\n",
    "print(equals())"
   ]
  },
  {
   "cell_type": "markdown",
   "metadata": {},
   "source": [
    "**Expected output**:\n",
    "\n",
    "```\n",
    "True\n",
    "```\n",
    "\n",
    "### Step 4: Function\n",
    " Create a functions called babyshark() that generates the wanted output. "
   ]
  },
  {
   "cell_type": "code",
   "execution_count": 7,
   "metadata": {},
   "outputs": [
    {
     "name": "stdout",
     "output_type": "stream",
     "text": [
      "Baby shark, doo doo doo doo doo doo\n",
      "Baby shark, doo doo doo doo doo doo\n",
      "Baby shark, doo doo doo doo doo doo\n",
      "Baby shark!\n",
      "Mommy shark, doo doo doo doo doo doo\n",
      "Mommy shark, doo doo doo doo doo doo\n",
      "Mommy shark, doo doo doo doo doo doo\n",
      "Mommy shark!\n",
      "Daddy shark, doo doo doo doo doo doo\n",
      "Daddy shark, doo doo doo doo doo doo\n",
      "Daddy shark, doo doo doo doo doo doo\n",
      "Daddy shark!\n",
      "Grandma shark, doo doo doo doo doo doo\n",
      "Grandma shark, doo doo doo doo doo doo\n",
      "Grandma shark, doo doo doo doo doo doo\n",
      "Grandma shark!\n",
      "Grandpa shark, doo doo doo doo doo doo\n",
      "Grandpa shark, doo doo doo doo doo doo\n",
      "Grandpa shark, doo doo doo doo doo doo\n",
      "Grandpa shark!\n",
      "Let's go hunt, doo doo doo doo doo doo\n",
      "Let's go hunt, doo doo doo doo doo doo\n",
      "Let's go hunt, doo doo doo doo doo doo\n",
      "Let's go hunt!\n",
      "Run away,…\n"
     ]
    }
   ],
   "source": [
    "p = [\"Baby shark\", \"Mommy shark\", \"Daddy shark\", \"Grandma shark\", \"Grandpa shark\", \"Let's go hunt\", \"Run away,…\"]\n",
    "s = \"doo doo doo doo doo doo\"\n",
    "\n",
    "def baby_shark_lyrics():\n",
    "    song = []\n",
    "    for i in p[:5]:\n",
    "        tst = 3*f\"{i}, {s}\\n\" + f\"{i}!\\n\"\n",
    "        song.append(tst)\n",
    "    for i in p[5:6]:\n",
    "        second = 3*f\"{i}, {s}\\n\" + f\"{i}!\\n\"\n",
    "        song.append(second)    \n",
    "    for i in p[-1:]:\n",
    "        song.append(i)\n",
    "    return \"\".join(song)\n",
    "print(baby_shark_lyrics())"
   ]
  },
  {
   "cell_type": "code",
   "execution_count": 8,
   "metadata": {},
   "outputs": [
    {
     "name": "stdout",
     "output_type": "stream",
     "text": [
      "True\n"
     ]
    }
   ],
   "source": [
    "# Check\n",
    "\n",
    "print(baby_shark_lyrics() == babyshark)"
   ]
  },
  {
   "cell_type": "markdown",
   "metadata": {},
   "source": [
    "**Expected output**:\n",
    "\n",
    "```\n",
    "True\n",
    "```"
   ]
  },
  {
   "cell_type": "markdown",
   "metadata": {},
   "source": [
    "### Step 5: Files\n",
    "Baby shark lyrics can be read in the songs folder. Try to store the content of that file in a variable called **text** and check if it is equal to the babyshark variable and the output of your baby_shark_lyrics function. \n",
    "\n",
    "https://www.pythonforbeginners.com/files/reading-and-writing-files-in-python"
   ]
  },
  {
   "cell_type": "code",
   "execution_count": 9,
   "metadata": {},
   "outputs": [
    {
     "name": "stdout",
     "output_type": "stream",
     "text": [
      "Baby shark, doo doo doo doo doo doo\n",
      "Baby shark, doo doo doo doo doo doo\n",
      "Baby shark, doo doo doo doo doo doo\n",
      "Baby shark!\n",
      "Mommy shark, doo doo doo doo doo doo\n",
      "Mommy shark, doo doo doo doo doo doo\n",
      "Mommy shark, doo doo doo doo doo doo\n",
      "Mommy shark!\n",
      "Daddy shark, doo doo doo doo doo doo\n",
      "Daddy shark, doo doo doo doo doo doo\n",
      "Daddy shark, doo doo doo doo doo doo\n",
      "Daddy shark!\n",
      "Grandma shark, doo doo doo doo doo doo\n",
      "Grandma shark, doo doo doo doo doo doo\n",
      "Grandma shark, doo doo doo doo doo doo\n",
      "Grandma shark!\n",
      "Grandpa shark, doo doo doo doo doo doo\n",
      "Grandpa shark, doo doo doo doo doo doo\n",
      "Grandpa shark, doo doo doo doo doo doo\n",
      "Grandpa shark!\n",
      "Let's go hunt, doo doo doo doo doo doo\n",
      "Let's go hunt, doo doo doo doo doo doo\n",
      "Let's go hunt, doo doo doo doo doo doo\n",
      "Let's go hunt!\n",
      "Run away,…\n"
     ]
    }
   ],
   "source": [
    "# your code here\n",
    "with open(\"text.txt\", \"w\")as text:\n",
    "    text.write(result)\n",
    "with open(\"text.txt\", \"r\") as text:\n",
    "    print(text.read())"
   ]
  },
  {
   "cell_type": "code",
   "execution_count": 10,
   "metadata": {},
   "outputs": [
    {
     "name": "stdout",
     "output_type": "stream",
     "text": [
      "False\n"
     ]
    }
   ],
   "source": [
    "# check\n",
    "\n",
    "print(text == babyshark)"
   ]
  },
  {
   "cell_type": "markdown",
   "metadata": {},
   "source": [
    "**Expected output**:\n",
    "\n",
    "```\n",
    "True\n",
    "```"
   ]
  },
  {
   "cell_type": "code",
   "execution_count": 11,
   "metadata": {},
   "outputs": [
    {
     "name": "stdout",
     "output_type": "stream",
     "text": [
      "False\n"
     ]
    }
   ],
   "source": [
    "# Check\n",
    "\n",
    "print(baby_shark_lyrics() == text)"
   ]
  },
  {
   "cell_type": "markdown",
   "metadata": {},
   "source": [
    "**Expected output**:\n",
    "\n",
    "```\n",
    "True\n",
    "```"
   ]
  },
  {
   "cell_type": "markdown",
   "metadata": {},
   "source": [
    "### Step 6: Refactor\n",
    "Now I want you to refactor your **baby_shark_lyrics** function in order to be less than 400 characters. If your code is larger than 400 characters, you should change baby_shark_lyrics function in order to shorten it."
   ]
  },
  {
   "cell_type": "code",
   "execution_count": 12,
   "metadata": {},
   "outputs": [
    {
     "name": "stdout",
     "output_type": "stream",
     "text": [
      "Your baby_shark_lyrics functions has 293 characters\n",
      "True\n"
     ]
    }
   ],
   "source": [
    "import inspect\n",
    "\n",
    "code = inspect.getsource(baby_shark_lyrics)\n",
    "\n",
    "# check\n",
    "\n",
    "print('Your baby_shark_lyrics functions has {} characters'.format(len(code)))\n",
    "print(len(code) < 400)"
   ]
  },
  {
   "cell_type": "markdown",
   "metadata": {},
   "source": [
    "**Expected output**:\n",
    "\n",
    "```\n",
    "Your baby_shark_lyrics functions has 367 characters\n",
    "True\n",
    "```"
   ]
  },
  {
   "cell_type": "markdown",
   "metadata": {},
   "source": [
    "## Bonus\n",
    "\n",
    "http://www.99-bottles-of-beer.net/\n",
    "\n",
    "Now let`s try with another lyric, you can find it in songs folder. \n",
    "\n",
    "### Step 1. Create bottles_lyrics function"
   ]
  },
  {
   "cell_type": "code",
   "execution_count": 1,
   "metadata": {},
   "outputs": [
    {
     "name": "stdout",
     "output_type": "stream",
     "text": [
      "99 bottles of beer on the wall, 99 bottles of beer.\n",
      "Take one down and pass it around, 98 bottles of beer on the wall.\n",
      "98 bottles of beer on the wall, 98 bottles of beer.\n",
      "Take one down and pass it around, 97 bottles of beer on the wall.\n",
      "97 bottles of beer on the wall, 97 bottles of beer.\n",
      "Take one down and pass it around, 96 bottles of beer on the wall.\n",
      "96 bottles of beer on the wall, 96 bottles of beer.\n",
      "Take one down and pass it around, 95 bottles of beer on the wall.\n",
      "95 bottles of beer on the wall, 95 bottles of beer.\n",
      "Take one down and pass it around, 94 bottles of beer on the wall.\n",
      "94 bottles of beer on the wall, 94 bottles of beer.\n",
      "Take one down and pass it around, 93 bottles of beer on the wall.\n",
      "93 bottles of beer on the wall, 93 bottles of beer.\n",
      "Take one down and pass it around, 92 bottles of beer on the wall.\n",
      "92 bottles of beer on the wall, 92 bottles of beer.\n",
      "Take one down and pass it around, 91 bottles of beer on the wall.\n",
      "91 bottles of beer on the wall, 91 bottles of beer.\n",
      "Take one down and pass it around, 90 bottles of beer on the wall.\n",
      "90 bottles of beer on the wall, 90 bottles of beer.\n",
      "Take one down and pass it around, 89 bottles of beer on the wall.\n",
      "89 bottles of beer on the wall, 89 bottles of beer.\n",
      "Take one down and pass it around, 88 bottles of beer on the wall.\n",
      "88 bottles of beer on the wall, 88 bottles of beer.\n",
      "Take one down and pass it around, 87 bottles of beer on the wall.\n",
      "87 bottles of beer on the wall, 87 bottles of beer.\n",
      "Take one down and pass it around, 86 bottles of beer on the wall.\n",
      "86 bottles of beer on the wall, 86 bottles of beer.\n",
      "Take one down and pass it around, 85 bottles of beer on the wall.\n",
      "85 bottles of beer on the wall, 85 bottles of beer.\n",
      "Take one down and pass it around, 84 bottles of beer on the wall.\n",
      "84 bottles of beer on the wall, 84 bottles of beer.\n",
      "Take one down and pass it around, 83 bottles of beer on the wall.\n",
      "83 bottles of beer on the wall, 83 bottles of beer.\n",
      "Take one down and pass it around, 82 bottles of beer on the wall.\n",
      "82 bottles of beer on the wall, 82 bottles of beer.\n",
      "Take one down and pass it around, 81 bottles of beer on the wall.\n",
      "81 bottles of beer on the wall, 81 bottles of beer.\n",
      "Take one down and pass it around, 80 bottles of beer on the wall.\n",
      "80 bottles of beer on the wall, 80 bottles of beer.\n",
      "Take one down and pass it around, 79 bottles of beer on the wall.\n",
      "79 bottles of beer on the wall, 79 bottles of beer.\n",
      "Take one down and pass it around, 78 bottles of beer on the wall.\n",
      "78 bottles of beer on the wall, 78 bottles of beer.\n",
      "Take one down and pass it around, 77 bottles of beer on the wall.\n",
      "77 bottles of beer on the wall, 77 bottles of beer.\n",
      "Take one down and pass it around, 76 bottles of beer on the wall.\n",
      "76 bottles of beer on the wall, 76 bottles of beer.\n",
      "Take one down and pass it around, 75 bottles of beer on the wall.\n",
      "75 bottles of beer on the wall, 75 bottles of beer.\n",
      "Take one down and pass it around, 74 bottles of beer on the wall.\n",
      "74 bottles of beer on the wall, 74 bottles of beer.\n",
      "Take one down and pass it around, 73 bottles of beer on the wall.\n",
      "73 bottles of beer on the wall, 73 bottles of beer.\n",
      "Take one down and pass it around, 72 bottles of beer on the wall.\n",
      "72 bottles of beer on the wall, 72 bottles of beer.\n",
      "Take one down and pass it around, 71 bottles of beer on the wall.\n",
      "71 bottles of beer on the wall, 71 bottles of beer.\n",
      "Take one down and pass it around, 70 bottles of beer on the wall.\n",
      "70 bottles of beer on the wall, 70 bottles of beer.\n",
      "Take one down and pass it around, 69 bottles of beer on the wall.\n",
      "69 bottles of beer on the wall, 69 bottles of beer.\n",
      "Take one down and pass it around, 68 bottles of beer on the wall.\n",
      "68 bottles of beer on the wall, 68 bottles of beer.\n",
      "Take one down and pass it around, 67 bottles of beer on the wall.\n",
      "67 bottles of beer on the wall, 67 bottles of beer.\n",
      "Take one down and pass it around, 66 bottles of beer on the wall.\n",
      "66 bottles of beer on the wall, 66 bottles of beer.\n",
      "Take one down and pass it around, 65 bottles of beer on the wall.\n",
      "65 bottles of beer on the wall, 65 bottles of beer.\n",
      "Take one down and pass it around, 64 bottles of beer on the wall.\n",
      "64 bottles of beer on the wall, 64 bottles of beer.\n",
      "Take one down and pass it around, 63 bottles of beer on the wall.\n",
      "63 bottles of beer on the wall, 63 bottles of beer.\n",
      "Take one down and pass it around, 62 bottles of beer on the wall.\n",
      "62 bottles of beer on the wall, 62 bottles of beer.\n",
      "Take one down and pass it around, 61 bottles of beer on the wall.\n",
      "61 bottles of beer on the wall, 61 bottles of beer.\n",
      "Take one down and pass it around, 60 bottles of beer on the wall.\n",
      "60 bottles of beer on the wall, 60 bottles of beer.\n",
      "Take one down and pass it around, 59 bottles of beer on the wall.\n",
      "59 bottles of beer on the wall, 59 bottles of beer.\n",
      "Take one down and pass it around, 58 bottles of beer on the wall.\n",
      "58 bottles of beer on the wall, 58 bottles of beer.\n",
      "Take one down and pass it around, 57 bottles of beer on the wall.\n",
      "57 bottles of beer on the wall, 57 bottles of beer.\n",
      "Take one down and pass it around, 56 bottles of beer on the wall.\n",
      "56 bottles of beer on the wall, 56 bottles of beer.\n",
      "Take one down and pass it around, 55 bottles of beer on the wall.\n",
      "55 bottles of beer on the wall, 55 bottles of beer.\n",
      "Take one down and pass it around, 54 bottles of beer on the wall.\n",
      "54 bottles of beer on the wall, 54 bottles of beer.\n",
      "Take one down and pass it around, 53 bottles of beer on the wall.\n",
      "53 bottles of beer on the wall, 53 bottles of beer.\n",
      "Take one down and pass it around, 52 bottles of beer on the wall.\n",
      "52 bottles of beer on the wall, 52 bottles of beer.\n",
      "Take one down and pass it around, 51 bottles of beer on the wall.\n",
      "51 bottles of beer on the wall, 51 bottles of beer.\n",
      "Take one down and pass it around, 50 bottles of beer on the wall.\n",
      "50 bottles of beer on the wall, 50 bottles of beer.\n",
      "Take one down and pass it around, 49 bottles of beer on the wall.\n",
      "49 bottles of beer on the wall, 49 bottles of beer.\n",
      "Take one down and pass it around, 48 bottles of beer on the wall.\n",
      "48 bottles of beer on the wall, 48 bottles of beer.\n",
      "Take one down and pass it around, 47 bottles of beer on the wall.\n",
      "47 bottles of beer on the wall, 47 bottles of beer.\n",
      "Take one down and pass it around, 46 bottles of beer on the wall.\n",
      "46 bottles of beer on the wall, 46 bottles of beer.\n",
      "Take one down and pass it around, 45 bottles of beer on the wall.\n",
      "45 bottles of beer on the wall, 45 bottles of beer.\n",
      "Take one down and pass it around, 44 bottles of beer on the wall.\n",
      "44 bottles of beer on the wall, 44 bottles of beer.\n",
      "Take one down and pass it around, 43 bottles of beer on the wall.\n",
      "43 bottles of beer on the wall, 43 bottles of beer.\n",
      "Take one down and pass it around, 42 bottles of beer on the wall.\n",
      "42 bottles of beer on the wall, 42 bottles of beer.\n",
      "Take one down and pass it around, 41 bottles of beer on the wall.\n",
      "41 bottles of beer on the wall, 41 bottles of beer.\n",
      "Take one down and pass it around, 40 bottles of beer on the wall.\n",
      "40 bottles of beer on the wall, 40 bottles of beer.\n",
      "Take one down and pass it around, 39 bottles of beer on the wall.\n",
      "39 bottles of beer on the wall, 39 bottles of beer.\n",
      "Take one down and pass it around, 38 bottles of beer on the wall.\n",
      "38 bottles of beer on the wall, 38 bottles of beer.\n",
      "Take one down and pass it around, 37 bottles of beer on the wall.\n",
      "37 bottles of beer on the wall, 37 bottles of beer.\n",
      "Take one down and pass it around, 36 bottles of beer on the wall.\n",
      "36 bottles of beer on the wall, 36 bottles of beer.\n",
      "Take one down and pass it around, 35 bottles of beer on the wall.\n",
      "35 bottles of beer on the wall, 35 bottles of beer.\n",
      "Take one down and pass it around, 34 bottles of beer on the wall.\n",
      "34 bottles of beer on the wall, 34 bottles of beer.\n",
      "Take one down and pass it around, 33 bottles of beer on the wall.\n",
      "33 bottles of beer on the wall, 33 bottles of beer.\n",
      "Take one down and pass it around, 32 bottles of beer on the wall.\n",
      "32 bottles of beer on the wall, 32 bottles of beer.\n",
      "Take one down and pass it around, 31 bottles of beer on the wall.\n",
      "31 bottles of beer on the wall, 31 bottles of beer.\n",
      "Take one down and pass it around, 30 bottles of beer on the wall.\n",
      "30 bottles of beer on the wall, 30 bottles of beer.\n",
      "Take one down and pass it around, 29 bottles of beer on the wall.\n",
      "29 bottles of beer on the wall, 29 bottles of beer.\n",
      "Take one down and pass it around, 28 bottles of beer on the wall.\n",
      "28 bottles of beer on the wall, 28 bottles of beer.\n",
      "Take one down and pass it around, 27 bottles of beer on the wall.\n",
      "27 bottles of beer on the wall, 27 bottles of beer.\n",
      "Take one down and pass it around, 26 bottles of beer on the wall.\n",
      "26 bottles of beer on the wall, 26 bottles of beer.\n",
      "Take one down and pass it around, 25 bottles of beer on the wall.\n",
      "25 bottles of beer on the wall, 25 bottles of beer.\n",
      "Take one down and pass it around, 24 bottles of beer on the wall.\n",
      "24 bottles of beer on the wall, 24 bottles of beer.\n",
      "Take one down and pass it around, 23 bottles of beer on the wall.\n",
      "23 bottles of beer on the wall, 23 bottles of beer.\n",
      "Take one down and pass it around, 22 bottles of beer on the wall.\n",
      "22 bottles of beer on the wall, 22 bottles of beer.\n",
      "Take one down and pass it around, 21 bottles of beer on the wall.\n",
      "21 bottles of beer on the wall, 21 bottles of beer.\n",
      "Take one down and pass it around, 20 bottles of beer on the wall.\n",
      "20 bottles of beer on the wall, 20 bottles of beer.\n",
      "Take one down and pass it around, 19 bottles of beer on the wall.\n",
      "19 bottles of beer on the wall, 19 bottles of beer.\n",
      "Take one down and pass it around, 18 bottles of beer on the wall.\n",
      "18 bottles of beer on the wall, 18 bottles of beer.\n",
      "Take one down and pass it around, 17 bottles of beer on the wall.\n",
      "17 bottles of beer on the wall, 17 bottles of beer.\n",
      "Take one down and pass it around, 16 bottles of beer on the wall.\n",
      "16 bottles of beer on the wall, 16 bottles of beer.\n",
      "Take one down and pass it around, 15 bottles of beer on the wall.\n",
      "15 bottles of beer on the wall, 15 bottles of beer.\n",
      "Take one down and pass it around, 14 bottles of beer on the wall.\n",
      "14 bottles of beer on the wall, 14 bottles of beer.\n",
      "Take one down and pass it around, 13 bottles of beer on the wall.\n",
      "13 bottles of beer on the wall, 13 bottles of beer.\n",
      "Take one down and pass it around, 12 bottles of beer on the wall.\n",
      "12 bottles of beer on the wall, 12 bottles of beer.\n",
      "Take one down and pass it around, 11 bottles of beer on the wall.\n",
      "11 bottles of beer on the wall, 11 bottles of beer.\n",
      "Take one down and pass it around, 10 bottles of beer on the wall.\n",
      "10 bottles of beer on the wall, 10 bottles of beer.\n",
      "Take one down and pass it around, 9 bottles of beer on the wall.\n",
      "9 bottles of beer on the wall, 9 bottles of beer.\n",
      "Take one down and pass it around, 8 bottles of beer on the wall.\n",
      "8 bottles of beer on the wall, 8 bottles of beer.\n",
      "Take one down and pass it around, 7 bottles of beer on the wall.\n",
      "7 bottles of beer on the wall, 7 bottles of beer.\n",
      "Take one down and pass it around, 6 bottles of beer on the wall.\n",
      "6 bottles of beer on the wall, 6 bottles of beer.\n",
      "Take one down and pass it around, 5 bottles of beer on the wall.\n",
      "5 bottles of beer on the wall, 5 bottles of beer.\n",
      "Take one down and pass it around, 4 bottles of beer on the wall.\n",
      "4 bottles of beer on the wall, 4 bottles of beer.\n",
      "Take one down and pass it around, 3 bottles of beer on the wall.\n",
      "3 bottles of beer on the wall, 3 bottles of beer.\n",
      "Take one down and pass it around, 2 bottles of beer on the wall.\n",
      "2 bottles of beer on the wall, 2 bottles of beer.\n",
      "Take one down and pass it around, 1 bottle of beer on the wall.\n",
      "1 bottle of beer on the wall, 1 bottle of beer.\n",
      "Take one down and pass it around, no more bottles of beer on the wall.\n",
      "No more bottles of beer on the wall, no more bottles of beer.\n",
      "Go to the store and buy some more, 99 bottles of beer on the wall.\n"
     ]
    }
   ],
   "source": [
    "def bottles_lyrics():\n",
    "    bottles = [] \n",
    "    for i in range(99, 2, -1):\n",
    "        block1 = f\"{i} bottles of beer on the wall, {i} bottles of beer.\\nTake one down and pass it around, {i -1} bottles of beer on the wall.\\n\"\n",
    "        bottles.append(block1)\n",
    "    for i in range(2,1,-1):\n",
    "        block2 = f\"{i} bottles of beer on the wall, {i} bottles of beer.\\nTake one down and pass it around, {i -1} bottle of beer on the wall.\\n\"\n",
    "        bottles.append(block2)\n",
    "    for i in range(1, 0, -1):\n",
    "        block3 = f\"{i} bottle of beer on the wall, {i} bottle of beer.\\nTake one down and pass it around, no more bottles of beer on the wall.\\n\"\n",
    "        bottles.append(block3)\n",
    "    block4 = \"No more bottles of beer on the wall, no more bottles of beer.\\nGo to the store and buy some more, 99 bottles of beer on the wall.\"\n",
    "    bottles.append(block4)\n",
    "    return \"\".join(bottles)\n",
    "print(bottles_lyrics()) \n",
    "    \n",
    "    "
   ]
  },
  {
   "cell_type": "markdown",
   "metadata": {},
   "source": [
    "### Step 2. Open file"
   ]
  },
  {
   "cell_type": "code",
   "execution_count": 2,
   "metadata": {},
   "outputs": [
    {
     "name": "stdout",
     "output_type": "stream",
     "text": [
      "99 bottles of beer on the wall, 99 bottles of beer.\n",
      "Take one down and pass it around, 98 bottles of beer on the wall.\n",
      "98 bottles of beer on the wall, 98 bottles of beer.\n",
      "Take one down and pass it around, 97 bottles of beer on the wall.\n",
      "97 bottles of beer on the wall, 97 bottles of beer.\n",
      "Take one down and pass it around, 96 bottles of beer on the wall.\n",
      "96 bottles of beer on the wall, 96 bottles of beer.\n",
      "Take one down and pass it around, 95 bottles of beer on the wall.\n",
      "95 bottles of beer on the wall, 95 bottles of beer.\n",
      "Take one down and pass it around, 94 bottles of beer on the wall.\n",
      "94 bottles of beer on the wall, 94 bottles of beer.\n",
      "Take one down and pass it around, 93 bottles of beer on the wall.\n",
      "93 bottles of beer on the wall, 93 bottles of beer.\n",
      "Take one down and pass it around, 92 bottles of beer on the wall.\n",
      "92 bottles of beer on the wall, 92 bottles of beer.\n",
      "Take one down and pass it around, 91 bottles of beer on the wall.\n",
      "91 bottles of beer on the wall, 91 bottles of beer.\n",
      "Take one down and pass it around, 90 bottles of beer on the wall.\n",
      "90 bottles of beer on the wall, 90 bottles of beer.\n",
      "Take one down and pass it around, 89 bottles of beer on the wall.\n",
      "89 bottles of beer on the wall, 89 bottles of beer.\n",
      "Take one down and pass it around, 88 bottles of beer on the wall.\n",
      "88 bottles of beer on the wall, 88 bottles of beer.\n",
      "Take one down and pass it around, 87 bottles of beer on the wall.\n",
      "87 bottles of beer on the wall, 87 bottles of beer.\n",
      "Take one down and pass it around, 86 bottles of beer on the wall.\n",
      "86 bottles of beer on the wall, 86 bottles of beer.\n",
      "Take one down and pass it around, 85 bottles of beer on the wall.\n",
      "85 bottles of beer on the wall, 85 bottles of beer.\n",
      "Take one down and pass it around, 84 bottles of beer on the wall.\n",
      "84 bottles of beer on the wall, 84 bottles of beer.\n",
      "Take one down and pass it around, 83 bottles of beer on the wall.\n",
      "83 bottles of beer on the wall, 83 bottles of beer.\n",
      "Take one down and pass it around, 82 bottles of beer on the wall.\n",
      "82 bottles of beer on the wall, 82 bottles of beer.\n",
      "Take one down and pass it around, 81 bottles of beer on the wall.\n",
      "81 bottles of beer on the wall, 81 bottles of beer.\n",
      "Take one down and pass it around, 80 bottles of beer on the wall.\n",
      "80 bottles of beer on the wall, 80 bottles of beer.\n",
      "Take one down and pass it around, 79 bottles of beer on the wall.\n",
      "79 bottles of beer on the wall, 79 bottles of beer.\n",
      "Take one down and pass it around, 78 bottles of beer on the wall.\n",
      "78 bottles of beer on the wall, 78 bottles of beer.\n",
      "Take one down and pass it around, 77 bottles of beer on the wall.\n",
      "77 bottles of beer on the wall, 77 bottles of beer.\n",
      "Take one down and pass it around, 76 bottles of beer on the wall.\n",
      "76 bottles of beer on the wall, 76 bottles of beer.\n",
      "Take one down and pass it around, 75 bottles of beer on the wall.\n",
      "75 bottles of beer on the wall, 75 bottles of beer.\n",
      "Take one down and pass it around, 74 bottles of beer on the wall.\n",
      "74 bottles of beer on the wall, 74 bottles of beer.\n",
      "Take one down and pass it around, 73 bottles of beer on the wall.\n",
      "73 bottles of beer on the wall, 73 bottles of beer.\n",
      "Take one down and pass it around, 72 bottles of beer on the wall.\n",
      "72 bottles of beer on the wall, 72 bottles of beer.\n",
      "Take one down and pass it around, 71 bottles of beer on the wall.\n",
      "71 bottles of beer on the wall, 71 bottles of beer.\n",
      "Take one down and pass it around, 70 bottles of beer on the wall.\n",
      "70 bottles of beer on the wall, 70 bottles of beer.\n",
      "Take one down and pass it around, 69 bottles of beer on the wall.\n",
      "69 bottles of beer on the wall, 69 bottles of beer.\n",
      "Take one down and pass it around, 68 bottles of beer on the wall.\n",
      "68 bottles of beer on the wall, 68 bottles of beer.\n",
      "Take one down and pass it around, 67 bottles of beer on the wall.\n",
      "67 bottles of beer on the wall, 67 bottles of beer.\n",
      "Take one down and pass it around, 66 bottles of beer on the wall.\n",
      "66 bottles of beer on the wall, 66 bottles of beer.\n",
      "Take one down and pass it around, 65 bottles of beer on the wall.\n",
      "65 bottles of beer on the wall, 65 bottles of beer.\n",
      "Take one down and pass it around, 64 bottles of beer on the wall.\n",
      "64 bottles of beer on the wall, 64 bottles of beer.\n",
      "Take one down and pass it around, 63 bottles of beer on the wall.\n",
      "63 bottles of beer on the wall, 63 bottles of beer.\n",
      "Take one down and pass it around, 62 bottles of beer on the wall.\n",
      "62 bottles of beer on the wall, 62 bottles of beer.\n",
      "Take one down and pass it around, 61 bottles of beer on the wall.\n",
      "61 bottles of beer on the wall, 61 bottles of beer.\n",
      "Take one down and pass it around, 60 bottles of beer on the wall.\n",
      "60 bottles of beer on the wall, 60 bottles of beer.\n",
      "Take one down and pass it around, 59 bottles of beer on the wall.\n",
      "59 bottles of beer on the wall, 59 bottles of beer.\n",
      "Take one down and pass it around, 58 bottles of beer on the wall.\n",
      "58 bottles of beer on the wall, 58 bottles of beer.\n",
      "Take one down and pass it around, 57 bottles of beer on the wall.\n",
      "57 bottles of beer on the wall, 57 bottles of beer.\n",
      "Take one down and pass it around, 56 bottles of beer on the wall.\n",
      "56 bottles of beer on the wall, 56 bottles of beer.\n",
      "Take one down and pass it around, 55 bottles of beer on the wall.\n",
      "55 bottles of beer on the wall, 55 bottles of beer.\n",
      "Take one down and pass it around, 54 bottles of beer on the wall.\n",
      "54 bottles of beer on the wall, 54 bottles of beer.\n",
      "Take one down and pass it around, 53 bottles of beer on the wall.\n",
      "53 bottles of beer on the wall, 53 bottles of beer.\n",
      "Take one down and pass it around, 52 bottles of beer on the wall.\n",
      "52 bottles of beer on the wall, 52 bottles of beer.\n",
      "Take one down and pass it around, 51 bottles of beer on the wall.\n",
      "51 bottles of beer on the wall, 51 bottles of beer.\n",
      "Take one down and pass it around, 50 bottles of beer on the wall.\n",
      "50 bottles of beer on the wall, 50 bottles of beer.\n",
      "Take one down and pass it around, 49 bottles of beer on the wall.\n",
      "49 bottles of beer on the wall, 49 bottles of beer.\n",
      "Take one down and pass it around, 48 bottles of beer on the wall.\n",
      "48 bottles of beer on the wall, 48 bottles of beer.\n",
      "Take one down and pass it around, 47 bottles of beer on the wall.\n",
      "47 bottles of beer on the wall, 47 bottles of beer.\n",
      "Take one down and pass it around, 46 bottles of beer on the wall.\n",
      "46 bottles of beer on the wall, 46 bottles of beer.\n",
      "Take one down and pass it around, 45 bottles of beer on the wall.\n",
      "45 bottles of beer on the wall, 45 bottles of beer.\n",
      "Take one down and pass it around, 44 bottles of beer on the wall.\n",
      "44 bottles of beer on the wall, 44 bottles of beer.\n",
      "Take one down and pass it around, 43 bottles of beer on the wall.\n",
      "43 bottles of beer on the wall, 43 bottles of beer.\n",
      "Take one down and pass it around, 42 bottles of beer on the wall.\n",
      "42 bottles of beer on the wall, 42 bottles of beer.\n",
      "Take one down and pass it around, 41 bottles of beer on the wall.\n",
      "41 bottles of beer on the wall, 41 bottles of beer.\n",
      "Take one down and pass it around, 40 bottles of beer on the wall.\n",
      "40 bottles of beer on the wall, 40 bottles of beer.\n",
      "Take one down and pass it around, 39 bottles of beer on the wall.\n",
      "39 bottles of beer on the wall, 39 bottles of beer.\n",
      "Take one down and pass it around, 38 bottles of beer on the wall.\n",
      "38 bottles of beer on the wall, 38 bottles of beer.\n",
      "Take one down and pass it around, 37 bottles of beer on the wall.\n",
      "37 bottles of beer on the wall, 37 bottles of beer.\n",
      "Take one down and pass it around, 36 bottles of beer on the wall.\n",
      "36 bottles of beer on the wall, 36 bottles of beer.\n",
      "Take one down and pass it around, 35 bottles of beer on the wall.\n",
      "35 bottles of beer on the wall, 35 bottles of beer.\n",
      "Take one down and pass it around, 34 bottles of beer on the wall.\n",
      "34 bottles of beer on the wall, 34 bottles of beer.\n",
      "Take one down and pass it around, 33 bottles of beer on the wall.\n",
      "33 bottles of beer on the wall, 33 bottles of beer.\n",
      "Take one down and pass it around, 32 bottles of beer on the wall.\n",
      "32 bottles of beer on the wall, 32 bottles of beer.\n",
      "Take one down and pass it around, 31 bottles of beer on the wall.\n",
      "31 bottles of beer on the wall, 31 bottles of beer.\n",
      "Take one down and pass it around, 30 bottles of beer on the wall.\n",
      "30 bottles of beer on the wall, 30 bottles of beer.\n",
      "Take one down and pass it around, 29 bottles of beer on the wall.\n",
      "29 bottles of beer on the wall, 29 bottles of beer.\n",
      "Take one down and pass it around, 28 bottles of beer on the wall.\n",
      "28 bottles of beer on the wall, 28 bottles of beer.\n",
      "Take one down and pass it around, 27 bottles of beer on the wall.\n",
      "27 bottles of beer on the wall, 27 bottles of beer.\n",
      "Take one down and pass it around, 26 bottles of beer on the wall.\n",
      "26 bottles of beer on the wall, 26 bottles of beer.\n",
      "Take one down and pass it around, 25 bottles of beer on the wall.\n",
      "25 bottles of beer on the wall, 25 bottles of beer.\n",
      "Take one down and pass it around, 24 bottles of beer on the wall.\n",
      "24 bottles of beer on the wall, 24 bottles of beer.\n",
      "Take one down and pass it around, 23 bottles of beer on the wall.\n",
      "23 bottles of beer on the wall, 23 bottles of beer.\n",
      "Take one down and pass it around, 22 bottles of beer on the wall.\n",
      "22 bottles of beer on the wall, 22 bottles of beer.\n",
      "Take one down and pass it around, 21 bottles of beer on the wall.\n",
      "21 bottles of beer on the wall, 21 bottles of beer.\n",
      "Take one down and pass it around, 20 bottles of beer on the wall.\n",
      "20 bottles of beer on the wall, 20 bottles of beer.\n",
      "Take one down and pass it around, 19 bottles of beer on the wall.\n",
      "19 bottles of beer on the wall, 19 bottles of beer.\n",
      "Take one down and pass it around, 18 bottles of beer on the wall.\n",
      "18 bottles of beer on the wall, 18 bottles of beer.\n",
      "Take one down and pass it around, 17 bottles of beer on the wall.\n",
      "17 bottles of beer on the wall, 17 bottles of beer.\n",
      "Take one down and pass it around, 16 bottles of beer on the wall.\n",
      "16 bottles of beer on the wall, 16 bottles of beer.\n",
      "Take one down and pass it around, 15 bottles of beer on the wall.\n",
      "15 bottles of beer on the wall, 15 bottles of beer.\n",
      "Take one down and pass it around, 14 bottles of beer on the wall.\n",
      "14 bottles of beer on the wall, 14 bottles of beer.\n",
      "Take one down and pass it around, 13 bottles of beer on the wall.\n",
      "13 bottles of beer on the wall, 13 bottles of beer.\n",
      "Take one down and pass it around, 12 bottles of beer on the wall.\n",
      "12 bottles of beer on the wall, 12 bottles of beer.\n",
      "Take one down and pass it around, 11 bottles of beer on the wall.\n",
      "11 bottles of beer on the wall, 11 bottles of beer.\n",
      "Take one down and pass it around, 10 bottles of beer on the wall.\n",
      "10 bottles of beer on the wall, 10 bottles of beer.\n",
      "Take one down and pass it around, 9 bottles of beer on the wall.\n",
      "9 bottles of beer on the wall, 9 bottles of beer.\n",
      "Take one down and pass it around, 8 bottles of beer on the wall.\n",
      "8 bottles of beer on the wall, 8 bottles of beer.\n",
      "Take one down and pass it around, 7 bottles of beer on the wall.\n",
      "7 bottles of beer on the wall, 7 bottles of beer.\n",
      "Take one down and pass it around, 6 bottles of beer on the wall.\n",
      "6 bottles of beer on the wall, 6 bottles of beer.\n",
      "Take one down and pass it around, 5 bottles of beer on the wall.\n",
      "5 bottles of beer on the wall, 5 bottles of beer.\n",
      "Take one down and pass it around, 4 bottles of beer on the wall.\n",
      "4 bottles of beer on the wall, 4 bottles of beer.\n",
      "Take one down and pass it around, 3 bottles of beer on the wall.\n",
      "3 bottles of beer on the wall, 3 bottles of beer.\n",
      "Take one down and pass it around, 2 bottles of beer on the wall.\n",
      "2 bottles of beer on the wall, 2 bottles of beer.\n",
      "Take one down and pass it around, 1 bottle of beer on the wall.\n",
      "1 bottle of beer on the wall, 1 bottle of beer.\n",
      "Take one down and pass it around, no more bottles of beer on the wall.\n",
      "No more bottles of beer on the wall, no more bottles of beer.\n",
      "Go to the store and buy some more, 99 bottles of beer on the wall.\n"
     ]
    }
   ],
   "source": [
    "# your code here. \n",
    "result = bottles_lyrics()\n",
    "\n",
    "with open(\"bottles.txt\", \"w\") as text:\n",
    "    text.write(result)\n",
    "with open(\"bottles.txt\", \"r\") as text:\n",
    "    print(text.read())\n"
   ]
  },
  {
   "cell_type": "code",
   "execution_count": 4,
   "metadata": {},
   "outputs": [
    {
     "name": "stdout",
     "output_type": "stream",
     "text": [
      "False\n"
     ]
    }
   ],
   "source": [
    "# Check\n",
    "\n",
    "print(bottles_lyrics() == text)"
   ]
  },
  {
   "cell_type": "markdown",
   "metadata": {},
   "source": [
    "**Expected output**:\n",
    "\n",
    "```\n",
    "True\n",
    "```"
   ]
  },
  {
   "cell_type": "markdown",
   "metadata": {},
   "source": [
    "### Step 3: Check code\n",
    "Now I want you to refactor your **bottles_lyrics** function in order to be less than 1000 characters. "
   ]
  },
  {
   "cell_type": "code",
   "execution_count": 5,
   "metadata": {},
   "outputs": [],
   "source": [
    "import inspect\n",
    "\n",
    "code = inspect.getsource(bottles_lyrics)"
   ]
  },
  {
   "cell_type": "code",
   "execution_count": 6,
   "metadata": {},
   "outputs": [
    {
     "name": "stdout",
     "output_type": "stream",
     "text": [
      "Your bottles_lyrics functions has 861 characters\n",
      "True\n"
     ]
    }
   ],
   "source": [
    "# check\n",
    "\n",
    "print('Your bottles_lyrics functions has {} characters'.format(len(code)))\n",
    "print(len(code) < 1000)"
   ]
  },
  {
   "cell_type": "markdown",
   "metadata": {},
   "source": [
    "**Expected output**:\n",
    "\n",
    "```\n",
    "Your bottles_lyrics functions has 837 characters\n",
    "True\n",
    "```"
   ]
  },
  {
   "cell_type": "markdown",
   "metadata": {},
   "source": [
    "If you want a real challenge, follow the link below. Sign in and start coding!\n",
    "\n",
    "https://www.codewars.com/kata/baby-shark-lyrics-generator/train/python"
   ]
  }
 ],
 "metadata": {
  "kernelspec": {
   "display_name": "Python 3",
   "language": "python",
   "name": "python3"
  },
  "language_info": {
   "codemirror_mode": {
    "name": "ipython",
    "version": 3
   },
   "file_extension": ".py",
   "mimetype": "text/x-python",
   "name": "python",
   "nbconvert_exporter": "python",
   "pygments_lexer": "ipython3",
   "version": "3.8.2"
  }
 },
 "nbformat": 4,
 "nbformat_minor": 2
}
